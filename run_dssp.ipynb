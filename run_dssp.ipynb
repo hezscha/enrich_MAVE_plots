{
 "cells": [
  {
   "cell_type": "code",
   "execution_count": 3,
   "metadata": {},
   "outputs": [],
   "source": [
    "# Standard library imports\n",
    "from argparse import ArgumentParser\n",
    "from datetime import datetime\n",
    "from functools import reduce\n",
    "import logging as log\n",
    "import os\n",
    "import shutil\n",
    "import sys\n",
    "\n",
    "\n",
    "# Third party imports\n",
    "from Bio.PDB import PDBParser\n",
    "from Bio.PDB.PDBList import PDBList \n",
    "from Bio.PDB.DSSP import DSSP\n",
    "import pandas as pd"
   ]
  },
  {
   "cell_type": "code",
   "execution_count": 4,
   "metadata": {},
   "outputs": [
    {
     "name": "stderr",
     "output_type": "stream",
     "text": [
      "/home/henrike/.local/lib/python3.8/site-packages/Bio/SubsMat/__init__.py:126: BiopythonDeprecationWarning: Bio.SubsMat has been deprecated, and we intend to remove it in a future release of Biopython. As an alternative, please consider using Bio.Align.substitution_matrices as a replacement, and contact the Biopython developers if you still need the Bio.SubsMat module.\n",
      "  warnings.warn(\n"
     ]
    }
   ],
   "source": [
    "#local imports\n",
    "#import_path_base = '/storage1/hezscha/src/'\n",
    "import_path_base = '/home/henrike/Documents/PD_AS/src/'\n",
    "sys.path.insert(1, import_path_base + 'PRISM/prism/scripts/')\n",
    "from PrismData import PrismParser, VariantData\n",
    "sys.path.insert(1, import_path_base + 'PRISM/software/domain_protein_features/scripts/')\n",
    "from FillVariants import copy_wt_variants\n",
    "#from prism_parser_helper import write_prism"
   ]
  },
  {
   "cell_type": "code",
   "execution_count": 5,
   "metadata": {},
   "outputs": [],
   "source": [
    "def write_prism(metadata, dataframe, prism_file, comment=''):\n",
    "\tvariant_dataset = VariantData(metadata, dataframe)\n",
    "\tparser = PrismParser()\n",
    "\tparser.write(prism_file, variant_dataset, comment_lines=comment)\n",
    "\n",
    "def read_from_prism(primsfile):\n",
    "\tparser = PrismParser()\n",
    "\tdataframe = parser.read(primsfile).dataframe\n",
    "\tmeta_data = parser.read_header(primsfile)\n",
    "\treturn meta_data, dataframe\n",
    "\n",
    "def download_pdb(pdb_id, output_dir='.'):\n",
    "    pdbl = PDBList()\n",
    "    pdbl.retrieve_pdb_file(pdb_id, file_format='pdb', pdir=output_dir)\n",
    "    pdb_path = os.path.join(output_dir, f'{pdb_id}.pdb')\n",
    "    shutil.move(os.path.join(output_dir, f'pdb{pdb_id.lower()}.ent'), pdb_path)\n",
    "    return pdb_path"
   ]
  },
  {
   "cell_type": "code",
   "execution_count": 6,
   "metadata": {},
   "outputs": [],
   "source": [
    "output_dir = '/home/henrike/Documents/PD_AS/projects/marks_disease_genes/data/pdbs'\n",
    "\n",
    "#select pdb file\n",
    "#dhfr with MTX bound:\n",
    "#pdbID = '1u72'\n",
    "#dhfr with NAD but not MTX bound:\n",
    "pdbID = '4m6j'"
   ]
  },
  {
   "cell_type": "code",
   "execution_count": 7,
   "metadata": {},
   "outputs": [
    {
     "name": "stdout",
     "output_type": "stream",
     "text": [
      "Downloading PDB structure '4m6j'...\n"
     ]
    }
   ],
   "source": [
    "#start by dling the pdb file\n",
    "pdb_file = download_pdb(pdbID, output_dir=output_dir)"
   ]
  },
  {
   "cell_type": "code",
   "execution_count": 8,
   "metadata": {},
   "outputs": [],
   "source": [
    "#prep the structure\n",
    "pdb_p = PDBParser()\n",
    "structure = pdb_p.get_structure(pdbID, pdb_file)\n",
    "model = structure[0]"
   ]
  },
  {
   "cell_type": "code",
   "execution_count": 9,
   "metadata": {},
   "outputs": [],
   "source": [
    "#run DSSP\n",
    "dssp = DSSP(model, pdb_file)"
   ]
  },
  {
   "cell_type": "code",
   "execution_count": null,
   "metadata": {},
   "outputs": [],
   "source": [
    "#use all chains. Switch if you want to want only specific chains (then use comma separated list, see below)\n",
    "#chain = 'A,B,C'\n",
    "chain = 'all'"
   ]
  },
  {
   "cell_type": "code",
   "execution_count": null,
   "metadata": {},
   "outputs": [],
   "source": [
    "variant_list = [['variant', 'SS', 'ASA', 'chain']]\n",
    "if chain == 'all':\n",
    "    chains = list(set([key[0] for key in dssp.keys() ])) #use all chains\n",
    "else:\n",
    "    chains = chain.split(',') #use only the asked for chains\n",
    "\n",
    "for chain in chains:\n",
    "    for key in dssp.keys():\n",
    "        if key[0] == chain:\n",
    "            arr = [None] * len(variant_list[0])\n",
    "            arr[0] = f'{dssp[key][1]}{key[1][1]}='\n",
    "            # secondary structure\n",
    "            arr[1] = dssp[key][2] \n",
    "            # accessible surface area\n",
    "            # Use this to convert NA to None so you still have a numeric column for the RSA\n",
    "            arr[2] = None if dssp[key][3] == 'NA' else dssp[key][3]\n",
    "            arr[3] = chain\n",
    "            variant_list.append(arr)\n",
    "dssp_df = pd.DataFrame(data = variant_list[1:], columns=variant_list[0])\n",
    "\n",
    "variant_dic = { 'SS': 'Secondary structure with H=alpha helix (4-12), B=isolated beta-bridge residue, E=Strand, G=3-10 helix, i=Pi helix, T=Turn, S=Bend, -=None', \n",
    "                'ASA':'Accessible surface area',}"
   ]
  },
  {
   "cell_type": "code",
   "execution_count": null,
   "metadata": {},
   "outputs": [],
   "source": [
    "#look at the df created from the DSSP results:\n",
    "dssp_df"
   ]
  },
  {
   "cell_type": "code",
   "execution_count": null,
   "metadata": {},
   "outputs": [],
   "source": [
    "#save to csv file (change path to what's applicable)\n",
    "dssp_df.to_csv('/home/henrike/Documents/PD_AS/projects/Sofie_Mave/data/'+pdbID+'_dssp.csv', sep = ' ', index = False)"
   ]
  }
 ],
 "metadata": {
  "kernelspec": {
   "display_name": "Python 3",
   "language": "python",
   "name": "python3"
  },
  "language_info": {
   "codemirror_mode": {
    "name": "ipython",
    "version": 3
   },
   "file_extension": ".py",
   "mimetype": "text/x-python",
   "name": "python",
   "nbconvert_exporter": "python",
   "pygments_lexer": "ipython3",
   "version": "3.8.5"
  }
 },
 "nbformat": 4,
 "nbformat_minor": 4
}
